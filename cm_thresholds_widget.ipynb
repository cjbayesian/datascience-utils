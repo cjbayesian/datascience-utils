{
 "cells": [
  {
   "cell_type": "markdown",
   "metadata": {},
   "source": [
    "# Interact with predictions thresholds"
   ]
  },
  {
   "cell_type": "code",
   "execution_count": 1,
   "metadata": {},
   "outputs": [
    {
     "name": "stdout",
     "output_type": "stream",
     "text": [
      "Populating the interactive namespace from numpy and matplotlib\n"
     ]
    }
   ],
   "source": [
    "%pylab inline"
   ]
  },
  {
   "cell_type": "code",
   "execution_count": 2,
   "metadata": {
    "collapsed": true
   },
   "outputs": [],
   "source": [
    "import pandas as pd\n",
    "import matplotlib.patches as patches\n",
    "import itertools\n",
    "from sklearn import metrics\n",
    "\n",
    "from ipywidgets import (interact,\n",
    "    interactive,\n",
    "    FloatSlider)"
   ]
  },
  {
   "cell_type": "code",
   "execution_count": 3,
   "metadata": {
    "collapsed": true
   },
   "outputs": [],
   "source": [
    "def sim_preds(n=100):\n",
    "    p = np.random.beta(1,2,n)\n",
    "    u = np.random.uniform(0,1,n)\n",
    "    y = p >= u\n",
    "    return p, y*1.0"
   ]
  },
  {
   "cell_type": "code",
   "execution_count": 4,
   "metadata": {},
   "outputs": [],
   "source": [
    "def plot_confusion_matrix(cm, classes,\n",
    "                          title='Confusion matrix',\n",
    "                          cmap=plt.cm.Blues,\n",
    "                          outcome='Observed',\n",
    "                          criteria='Predicted',\n",
    "                          ax=None):\n",
    "    \"\"\"\n",
    "    This function prints and plots the confusion matrix.\n",
    "    \"\"\"\n",
    "    if ax is None:\n",
    "        fig, ax = plt.subplots(1,1)\n",
    "    ax.imshow(cm, interpolation='nearest', cmap=cmap)\n",
    "    ax.set_title(title)\n",
    "    tick_marks = np.arange(len(classes))\n",
    "    ax.set_xticks(tick_marks)\n",
    "    ax.set_xticklabels(classes)\n",
    "    ax.set_yticks(tick_marks)\n",
    "    ax.set_yticklabels(classes,rotation=90)\n",
    "\n",
    "    thresh = cm.max() / 2.\n",
    "    for i, j in itertools.product(range(cm.shape[0]), range(cm.shape[1])):\n",
    "        ax.text(j, i, cm[i, j],\n",
    "                 horizontalalignment=\"center\",\n",
    "                 color=\"white\" if cm[i, j] > thresh else \"black\")\n",
    "\n",
    "    \n",
    "    ax.grid('off')\n",
    "    ax.set_ylabel(outcome)\n",
    "    ax.set_xlabel(criteria)"
   ]
  },
  {
   "cell_type": "code",
   "execution_count": 5,
   "metadata": {},
   "outputs": [],
   "source": [
    "def plt_pred_obs(p,y,thresh,shape,ax=None):\n",
    "    if ax is None:\n",
    "        fig, ax = plt.subplots(figsize=(20,10))\n",
    "    df = pd.DataFrame({'p':p,'y':y})\n",
    "    df = df.sort_values('p')\n",
    "    y_sorted = df['y'].values.reshape(shape[0],shape[1])\n",
    "    p_sorted = df['p'].values.reshape(shape[0],shape[1])\n",
    "    ax.imshow(y_sorted, cmap=plt.cm.Blues)\n",
    "    \n",
    "    ax.set_xticks([])\n",
    "    ax.set_yticks([])\n",
    "    below_thresh = True\n",
    "    above_thresh = False\n",
    "    for i, j in itertools.product(range(y_sorted.shape[0]), range(y_sorted.shape[1])):\n",
    "        ax.text(j, i, \"%0.2f\"%p_sorted[i, j],\n",
    "                horizontalalignment=\"center\",\n",
    "                color=\"black\" if y_sorted[i, j] == 0 else \"white\")\n",
    "                #alpha=0.6 if below_thresh else 1)\n",
    "        \n",
    "        if thresh <= p_sorted[i, j]:\n",
    "            above_thresh = True\n",
    "            \n",
    "        if above_thresh & below_thresh:\n",
    "            c = patches.Circle((j, i+0.3), 0.1, facecolor='none', edgecolor='red',\n",
    "                               linewidth=5)\n",
    "            ax.add_patch(c)\n",
    "            \n",
    "        if thresh < p_sorted[i, j]:\n",
    "            below_thresh = False\n",
    "    ax.set_title('Sorted predictions vs observed')\n",
    "\n",
    "#plt_pred_obs(p,y,0.5,(10,10))"
   ]
  },
  {
   "cell_type": "code",
   "execution_count": 6,
   "metadata": {},
   "outputs": [
    {
     "data": {
      "application/vnd.jupyter.widget-view+json": {
       "model_id": "5d7ac2e75b624679b3520dd314685bfc"
      }
     },
     "metadata": {},
     "output_type": "display_data"
    }
   ],
   "source": [
    "n = 100\n",
    "p, y = sim_preds(n) \n",
    "\n",
    "thesh_w = FloatSlider(min=0, max=1, step=0.01, value=0.5,description='theshold',readout_format='0.2f')\n",
    "\n",
    "def cm_thresh_plots(thresh):\n",
    "    pred = p > thresh\n",
    "    fig, axx = plt.subplots(1,2,figsize=(12,6))\n",
    "    cm = metrics.confusion_matrix(y, pred)\n",
    "    plot_confusion_matrix(cm,classes=['0','1'],ax=axx[0])\n",
    "    plt_pred_obs(p,y,thresh,(10,10),ax=axx[1])\n",
    "    plt.show()\n",
    "    \n",
    "def interact_cm_thresh():\n",
    "    interact(cm_thresh_plots,\n",
    "            thresh=thesh_w)\n",
    "    \n",
    "interact_cm_thresh()"
   ]
  },
  {
   "cell_type": "code",
   "execution_count": null,
   "metadata": {
    "collapsed": true
   },
   "outputs": [],
   "source": []
  }
 ],
 "metadata": {
  "kernelspec": {
   "display_name": "Python 3",
   "language": "python",
   "name": "python3"
  },
  "language_info": {
   "codemirror_mode": {
    "name": "ipython",
    "version": 3
   },
   "file_extension": ".py",
   "mimetype": "text/x-python",
   "name": "python",
   "nbconvert_exporter": "python",
   "pygments_lexer": "ipython3",
   "version": "3.6.1"
  },
  "widgets": {
   "state": {
    "1042ad3c0fc048f789c3f36823720b0d": {
     "views": [
      {
       "cell_index": 6
      }
     ]
    }
   },
   "version": "1.2.0"
  }
 },
 "nbformat": 4,
 "nbformat_minor": 2
}
