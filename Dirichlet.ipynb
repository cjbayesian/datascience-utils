{
 "cells": [
  {
   "cell_type": "code",
   "execution_count": 1,
   "metadata": {},
   "outputs": [
    {
     "name": "stdout",
     "output_type": "stream",
     "text": [
      "Populating the interactive namespace from numpy and matplotlib\n"
     ]
    }
   ],
   "source": [
    "%pylab inline"
   ]
  },
  {
   "cell_type": "code",
   "execution_count": 2,
   "metadata": {
    "collapsed": true
   },
   "outputs": [],
   "source": [
    "from scipy import stats\n",
    "import itertools"
   ]
  },
  {
   "cell_type": "code",
   "execution_count": 3,
   "metadata": {
    "collapsed": true
   },
   "outputs": [],
   "source": [
    "from ipywidgets import (interact,\n",
    "    interactive,\n",
    "    fixed, FloatSlider,\n",
    "    BoundedFloatText,\n",
    "    FloatText)"
   ]
  },
  {
   "cell_type": "code",
   "execution_count": 4,
   "metadata": {
    "collapsed": true
   },
   "outputs": [],
   "source": [
    "def rnd_samp_dirichlet(a1=1,a2=1,a3=1,n=10000):\n",
    "    samp = np.random.dirichlet([a1,a2,a3], n)\n",
    "    fig, ax = plt.subplots(1,1)\n",
    "    ax.plot(samp[:,0],samp[:,1],'.',alpha=0.5)\n",
    "    ax.set_xlim(0,1)\n",
    "    ax.set_ylim(0,1)\n",
    "    plt.show()"
   ]
  },
  {
   "cell_type": "code",
   "execution_count": 5,
   "metadata": {
    "collapsed": true
   },
   "outputs": [],
   "source": [
    "a1_w = FloatSlider(min=0, max=10, step=1, value=0.01,description='a1',readout_format='0.2f')\n",
    "a2_w = FloatSlider(min=1, max=10, step=1, value=1,description='a2',readout_format='0.2f')\n",
    "a3_w = FloatSlider(min=1, max=10, step=1, value=1,description='a3',readout_format='0.2f')\n",
    "\n",
    "def interact_rnd_samp_dirichlet():\n",
    "    interact(rnd_samp_dirichlet,\n",
    "             a1=a1_w,\n",
    "             a2=a2_w,\n",
    "             a3=a3_w)"
   ]
  },
  {
   "cell_type": "code",
   "execution_count": 6,
   "metadata": {},
   "outputs": [
    {
     "data": {
      "application/vnd.jupyter.widget-view+json": {
       "model_id": "7513da0db541419a8c6c36843579e4af"
      }
     },
     "metadata": {},
     "output_type": "display_data"
    },
    {
     "data": {
      "text/plain": [
       "<function __main__.rnd_samp_dirichlet>"
      ]
     },
     "execution_count": 6,
     "metadata": {},
     "output_type": "execute_result"
    }
   ],
   "source": [
    "interact(rnd_samp_dirichlet,\n",
    "             a1=a1_w,\n",
    "             a2=a2_w,\n",
    "             a3=a3_w)"
   ]
  }
 ],
 "metadata": {
  "kernelspec": {
   "display_name": "Python 2",
   "language": "python",
   "name": "python2"
  },
  "language_info": {
   "codemirror_mode": {
    "name": "ipython",
    "version": 2
   },
   "file_extension": ".py",
   "mimetype": "text/x-python",
   "name": "python",
   "nbconvert_exporter": "python",
   "pygments_lexer": "ipython2",
   "version": "2.7.13"
  },
  "widgets": {
   "state": {
    "40d5cbacaa3f4517a40d2dd30b468d0f": {
     "views": [
      {
       "cell_index": 5
      }
     ]
    },
    "8a21ef4805484963bb5ea1717a7000fd": {
     "views": [
      {
       "cell_index": 10
      }
     ]
    }
   },
   "version": "1.2.0"
  }
 },
 "nbformat": 4,
 "nbformat_minor": 2
}
